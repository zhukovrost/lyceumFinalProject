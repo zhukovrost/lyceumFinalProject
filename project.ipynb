{
 "nbformat": 4,
 "nbformat_minor": 0,
 "metadata": {
  "colab": {
   "provenance": []
  },
  "kernelspec": {
   "name": "python3",
   "display_name": "Python 3 (ipykernel)",
   "language": "python"
  },
  "language_info": {
   "name": "python"
  }
 },
 "cells": [
  {
   "cell_type": "markdown",
   "source": [
    "# **Delivery Dron Analysis**"
   ],
   "metadata": {
    "id": "g810gJPMGFSo"
   }
  },
  {
   "cell_type": "markdown",
   "source": [
    "# Описание проекта\n",
    "Необходимо проанализировать данные иностранной интернет компании “Delivery Dron”, занимающейся продажей дронов доставщиков и работающей в четырех регионах c мая 2019 года.\n",
    "## Задачи:\n",
    "\n",
    "*   сделать отчет о вложенных средствах\n",
    "*   построить планы на следующий год\n",
    "*   выяснить  в какой регион и какой рекламный канал инвестировать больше денег на привлечение клиентов в 2020 году\n",
    "\n",
    "\n",
    "\n",
    "Необходимо проанализировать имеющиеся данные и ответить на вопрос заказчика: в какой регион и какой рекламный канал инвестировать больше денег на привлечение клиентов в 2020 году?\n",
    "\n",
    "\n"
   ],
   "metadata": {
    "id": "BnpbZGfmwDXq"
   }
  },
  {
   "cell_type": "markdown",
   "source": [
    "# Шаг 0: Подготовка"
   ],
   "metadata": {
    "id": "TT5YSFaevXaa"
   }
  },
  {
   "cell_type": "markdown",
   "source": [
    "## 0.1: Импорт библиотек"
   ],
   "metadata": {
    "id": "Xwnp3XWvvRxb"
   }
  },
  {
   "cell_type": "code",
   "source": [
    "import pandas as pd\n",
    "import numpy as np\n",
    "import matplotlib.pyplot as plt\n",
    "import seaborn as sns\n",
    "from sklearn.model_selection import train_test_split\n",
    "from sklearn.linear_model import LinearRegression\n",
    "from sklearn.preprocessing import OneHotEncoder"
   ],
   "metadata": {
    "id": "SM370i6It2EI",
    "executionInfo": {
     "status": "ok",
     "timestamp": 1712255383976,
     "user_tz": -180,
     "elapsed": 4,
     "user": {
      "displayName": "Rostislav Zhukov",
      "userId": "04509616159054598187"
     }
    },
    "ExecuteTime": {
     "end_time": "2024-04-04T18:48:33.051799Z",
     "start_time": "2024-04-04T18:48:32.140148Z"
    }
   },
   "outputs": [],
   "execution_count": 2
  },
  {
   "cell_type": "markdown",
   "source": [
    "## 0.2: Константы и настройки"
   ],
   "metadata": {
    "id": "LN4Zupcvu42B"
   }
  },
  {
   "cell_type": "code",
   "source": "",
   "metadata": {
    "colab": {
     "base_uri": "https://localhost:8080/"
    },
    "id": "-7w21yoju-hh",
    "executionInfo": {
     "status": "ok",
     "timestamp": 1712245189957,
     "user_tz": -180,
     "elapsed": 2189,
     "user": {
      "displayName": "Rostislav Zhukov",
      "userId": "04509616159054598187"
     }
    },
    "outputId": "54826997-4036-46cc-f49a-e257220d1a6f",
    "ExecuteTime": {
     "end_time": "2024-04-04T18:48:33.055371Z",
     "start_time": "2024-04-04T18:48:33.053251Z"
    }
   },
   "outputs": [],
   "execution_count": 2
  },
  {
   "cell_type": "markdown",
   "source": [
    "## 0.3: Загрузка данных"
   ],
   "metadata": {
    "id": "J5rAh4ifuxjC"
   }
  },
  {
   "cell_type": "code",
   "source": [
    "df = pd.read_csv(\"data.csv\")\n",
    "df.head()"
   ],
   "metadata": {
    "colab": {
     "base_uri": "https://localhost:8080/",
     "height": 206
    },
    "id": "ni-Zpx--tjI6",
    "executionInfo": {
     "status": "ok",
     "timestamp": 1712245189958,
     "user_tz": -180,
     "elapsed": 8,
     "user": {
      "displayName": "Rostislav Zhukov",
      "userId": "04509616159054598187"
     }
    },
    "outputId": "2d911817-506c-4bb0-cd6e-5b299937b014",
    "ExecuteTime": {
     "end_time": "2024-04-04T18:48:33.073543Z",
     "start_time": "2024-04-04T18:48:33.056501Z"
    }
   },
   "outputs": [
    {
     "data": {
      "text/plain": [
       "        User Id         Region  Device          Channel        Session Start  \\\n",
       "0  529697267522  United States  iPhone  социальные сети  2019-05-01 00:06:40   \n",
       "1  601292388085  United States      PC          organic  2019-05-01 06:56:16   \n",
       "2  852898876338  United States     Mac  социальные сети  2019-05-01 04:30:45   \n",
       "3  998513020664  United States  iPhone  социальные сети  2019-05-01 18:53:42   \n",
       "4  240702200943  United States     Mac  социальные сети  2019-05-02 14:04:32   \n",
       "\n",
       "           Session End  SessionDurationSec Session Date  Month  Day  \\\n",
       "0  2019-05-01 00:07:06                26.0   2019-05-01      5    3   \n",
       "1  2019-05-01 07:09:18               782.0   2019-05-01      5    3   \n",
       "2  2019-05-01 04:34:56               251.0   2019-05-01      5    3   \n",
       "3  2019-05-01 18:57:35               233.0   2019-05-01      5    3   \n",
       "4  2019-05-02 14:09:51               319.0   2019-05-02      5    4   \n",
       "\n",
       "   Hour of day             Order Dt  Revenue     Payment Type  Promo code  \n",
       "0            0  2019-05-01 00:06:40   9999.0  Mobile payments         0.0  \n",
       "1            7                  NaN      NaN              NaN         NaN  \n",
       "2            4                  NaN      NaN              NaN         NaN  \n",
       "3           18                  NaN      NaN              NaN         NaN  \n",
       "4           14                  NaN      NaN              NaN         NaN  "
      ],
      "text/html": [
       "<div>\n",
       "<style scoped>\n",
       "    .dataframe tbody tr th:only-of-type {\n",
       "        vertical-align: middle;\n",
       "    }\n",
       "\n",
       "    .dataframe tbody tr th {\n",
       "        vertical-align: top;\n",
       "    }\n",
       "\n",
       "    .dataframe thead th {\n",
       "        text-align: right;\n",
       "    }\n",
       "</style>\n",
       "<table border=\"1\" class=\"dataframe\">\n",
       "  <thead>\n",
       "    <tr style=\"text-align: right;\">\n",
       "      <th></th>\n",
       "      <th>User Id</th>\n",
       "      <th>Region</th>\n",
       "      <th>Device</th>\n",
       "      <th>Channel</th>\n",
       "      <th>Session Start</th>\n",
       "      <th>Session End</th>\n",
       "      <th>SessionDurationSec</th>\n",
       "      <th>Session Date</th>\n",
       "      <th>Month</th>\n",
       "      <th>Day</th>\n",
       "      <th>Hour of day</th>\n",
       "      <th>Order Dt</th>\n",
       "      <th>Revenue</th>\n",
       "      <th>Payment Type</th>\n",
       "      <th>Promo code</th>\n",
       "    </tr>\n",
       "  </thead>\n",
       "  <tbody>\n",
       "    <tr>\n",
       "      <th>0</th>\n",
       "      <td>529697267522</td>\n",
       "      <td>United States</td>\n",
       "      <td>iPhone</td>\n",
       "      <td>социальные сети</td>\n",
       "      <td>2019-05-01 00:06:40</td>\n",
       "      <td>2019-05-01 00:07:06</td>\n",
       "      <td>26.0</td>\n",
       "      <td>2019-05-01</td>\n",
       "      <td>5</td>\n",
       "      <td>3</td>\n",
       "      <td>0</td>\n",
       "      <td>2019-05-01 00:06:40</td>\n",
       "      <td>9999.0</td>\n",
       "      <td>Mobile payments</td>\n",
       "      <td>0.0</td>\n",
       "    </tr>\n",
       "    <tr>\n",
       "      <th>1</th>\n",
       "      <td>601292388085</td>\n",
       "      <td>United States</td>\n",
       "      <td>PC</td>\n",
       "      <td>organic</td>\n",
       "      <td>2019-05-01 06:56:16</td>\n",
       "      <td>2019-05-01 07:09:18</td>\n",
       "      <td>782.0</td>\n",
       "      <td>2019-05-01</td>\n",
       "      <td>5</td>\n",
       "      <td>3</td>\n",
       "      <td>7</td>\n",
       "      <td>NaN</td>\n",
       "      <td>NaN</td>\n",
       "      <td>NaN</td>\n",
       "      <td>NaN</td>\n",
       "    </tr>\n",
       "    <tr>\n",
       "      <th>2</th>\n",
       "      <td>852898876338</td>\n",
       "      <td>United States</td>\n",
       "      <td>Mac</td>\n",
       "      <td>социальные сети</td>\n",
       "      <td>2019-05-01 04:30:45</td>\n",
       "      <td>2019-05-01 04:34:56</td>\n",
       "      <td>251.0</td>\n",
       "      <td>2019-05-01</td>\n",
       "      <td>5</td>\n",
       "      <td>3</td>\n",
       "      <td>4</td>\n",
       "      <td>NaN</td>\n",
       "      <td>NaN</td>\n",
       "      <td>NaN</td>\n",
       "      <td>NaN</td>\n",
       "    </tr>\n",
       "    <tr>\n",
       "      <th>3</th>\n",
       "      <td>998513020664</td>\n",
       "      <td>United States</td>\n",
       "      <td>iPhone</td>\n",
       "      <td>социальные сети</td>\n",
       "      <td>2019-05-01 18:53:42</td>\n",
       "      <td>2019-05-01 18:57:35</td>\n",
       "      <td>233.0</td>\n",
       "      <td>2019-05-01</td>\n",
       "      <td>5</td>\n",
       "      <td>3</td>\n",
       "      <td>18</td>\n",
       "      <td>NaN</td>\n",
       "      <td>NaN</td>\n",
       "      <td>NaN</td>\n",
       "      <td>NaN</td>\n",
       "    </tr>\n",
       "    <tr>\n",
       "      <th>4</th>\n",
       "      <td>240702200943</td>\n",
       "      <td>United States</td>\n",
       "      <td>Mac</td>\n",
       "      <td>социальные сети</td>\n",
       "      <td>2019-05-02 14:04:32</td>\n",
       "      <td>2019-05-02 14:09:51</td>\n",
       "      <td>319.0</td>\n",
       "      <td>2019-05-02</td>\n",
       "      <td>5</td>\n",
       "      <td>4</td>\n",
       "      <td>14</td>\n",
       "      <td>NaN</td>\n",
       "      <td>NaN</td>\n",
       "      <td>NaN</td>\n",
       "      <td>NaN</td>\n",
       "    </tr>\n",
       "  </tbody>\n",
       "</table>\n",
       "</div>"
      ]
     },
     "execution_count": 3,
     "metadata": {},
     "output_type": "execute_result"
    }
   ],
   "execution_count": 3
  },
  {
   "cell_type": "markdown",
   "source": [
    "## 0.4: Пользовательские функции"
   ],
   "metadata": {
    "id": "PGkClmgQxVKV"
   }
  },
  {
   "cell_type": "code",
   "source": [
    "def get_ohe(data: pd.DataFrame, categories: list):\n",
    "    \"\"\"\n",
    "    Функция, которая переводит номинальные шкалы в бинарные методом OneHotEncoder.\n",
    "    \n",
    "    :param data: dataframe\n",
    "    :param categories: список названий колонн\n",
    "    :return: новый dataframe\n",
    "    \"\"\"\n",
    "    ohe = OneHotEncoder(sparse_output=False, drop='first', handle_unknown='ignore')\n",
    "    ohe.fit(data[categories])\n",
    "  \n",
    "    temp_df = pd.DataFrame(data=ohe.transform(data[categories]), columns=ohe.get_feature_names_out())\n",
    "    data = pd.concat([data.reset_index(drop=True), temp_df], axis=1)\n",
    "    data = data.drop(columns=categories, axis=1)\n",
    "    return data"
   ],
   "metadata": {
    "id": "XpKxd-zkxVlF",
    "ExecuteTime": {
     "end_time": "2024-04-04T18:48:33.078018Z",
     "start_time": "2024-04-04T18:48:33.074784Z"
    }
   },
   "outputs": [],
   "execution_count": 4
  },
  {
   "cell_type": "markdown",
   "source": [
    "## **Шаг 1: Исследовательский анализ данных и предобработка**"
   ],
   "metadata": {
    "id": "lfGCjlKixMhV"
   }
  },
  {
   "cell_type": "code",
   "source": [
    "df.columns = df.columns.str.lower().str.replace(\" \", \"_\")"
   ],
   "metadata": {
    "id": "0XU6FYUJuBUM",
    "ExecuteTime": {
     "end_time": "2024-04-04T18:48:33.081526Z",
     "start_time": "2024-04-04T18:48:33.078882Z"
    }
   },
   "outputs": [],
   "execution_count": 5
  }
 ]
}
